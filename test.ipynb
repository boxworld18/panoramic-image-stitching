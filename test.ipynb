{
 "cells": [
  {
   "cell_type": "code",
   "execution_count": null,
   "metadata": {},
   "outputs": [],
   "source": [
    "import os\n",
    "import cv2 as cv\n",
    "from utils import cv_show, cv_write, cv_read\n",
    "\n",
    "m = 3\n",
    "n = 6\n",
    "for i in range(1, m + 1):\n",
    "    folder = \"pics/elden\" + str(i) + \"/\"\n",
    "    for j in range(1, n + 1):\n",
    "        filename = folder + str(j) + \".png\"\n",
    "        img = cv_read(filename)"
   ]
  },
  {
   "cell_type": "code",
   "execution_count": 1,
   "metadata": {},
   "outputs": [
    {
     "name": "stdout",
     "output_type": "stream",
     "text": [
      "['pics/elden1/1.png', 'pics/elden1/2.png', 'pics/elden1/3.png', 'pics/elden1/4.png', 'pics/elden1/5.png', 'pics/elden1/6.png']\n",
      "finish kind: elden1, fusionMethod: default, result: 0\n",
      "finish kind: elden1, fusionMethod: poisson, result: 0\n",
      "finish kind: elden1, fusionMethod: weight, result: 0\n",
      "finish kind: elden1, fusionMethod: multiband, result: 0\n",
      "['pics/elden2/1.png', 'pics/elden2/2.png', 'pics/elden2/3.png', 'pics/elden2/4.png', 'pics/elden2/5.png', 'pics/elden2/6.png']\n",
      "finish kind: elden2, fusionMethod: default, result: 0\n",
      "finish kind: elden2, fusionMethod: poisson, result: 0\n",
      "finish kind: elden2, fusionMethod: weight, result: 0\n",
      "finish kind: elden2, fusionMethod: multiband, result: 0\n",
      "['pics/elden3/1.png', 'pics/elden3/2.png', 'pics/elden3/3.png', 'pics/elden3/4.png', 'pics/elden3/5.png', 'pics/elden3/6.png']\n",
      "finish kind: elden3, fusionMethod: default, result: 0\n",
      "finish kind: elden3, fusionMethod: poisson, result: 0\n",
      "finish kind: elden3, fusionMethod: weight, result: 0\n",
      "finish kind: elden3, fusionMethod: multiband, result: 0\n"
     ]
    }
   ],
   "source": [
    "import os\n",
    "os.system(\"conda activate VR\")\n",
    "\n",
    "ratio = 0.75\n",
    "reprojThresh = 4.0\n",
    "number = 3\n",
    "fusionMethod = [\"default\", \"poisson\", \"weight\", \"multiband\"]\n",
    "kind = [\"elden1\", \"elden2\", \"elden3\"]\n",
    "suffix = \".png\"\n",
    "for (i, k) in enumerate(kind):\n",
    "    pics = ['pics/{}/{}{}'.format(k, str(i), suffix) for i in range(1, 7)]\n",
    "    print(pics)\n",
    "    for (j, f) in enumerate(fusionMethod):\n",
    "        pic_out = 'pics/{}/out_{}_6{}'.format(k, f, suffix)\n",
    "        command = 'python main.py --pic1 ' + pics[0] + \\\n",
    "                                ' --pic2 ' + pics[1] + \\\n",
    "                                ' --pic3 ' + pics[2] + \\\n",
    "                                ' --pic4 ' + pics[3] + \\\n",
    "                                ' --pic5 ' + pics[4] + \\\n",
    "                                ' --pic6 ' + pics[5] + \\\n",
    "                                ' --number ' + str(number) + \\\n",
    "                                ' --pic_out ' + pic_out + \\\n",
    "                                ' --ratio ' + str(ratio) + \\\n",
    "                                ' --reprojThresh ' + str(reprojThresh) + \\\n",
    "                                ' --fusionMethod ' + f\n",
    "        result = os.system(command=command)\n",
    "        print(\"finish kind: {}, fusionMethod: {}, result: {}\".format(k, f, result))\n"
   ]
  },
  {
   "cell_type": "code",
   "execution_count": 3,
   "metadata": {},
   "outputs": [
    {
     "name": "stdout",
     "output_type": "stream",
     "text": [
      "reading image: pics/elden1/out_weight_6.png, shape: (2182, 4000, 3)\n",
      "(2182, 4000, 3)\n",
      "0 1080\n",
      "writing image: pics/elden1/out_weight_6_cut.png, shape: (1080, 4000, 3)\n"
     ]
    }
   ],
   "source": [
    "import os\n",
    "import cv2 as cv\n",
    "from utils import cv_show, cv_write, cv_read\n",
    "\n",
    "path = \"pics/elden1/out_weight_6.png\"\n",
    "img = cv_read(path)\n",
    "print(img.shape)\n",
    "\n",
    "cnt = 0\n",
    "cut1 = 0\n",
    "cut2 = 0\n",
    "flag = False\n",
    "for i in range(0, img.shape[0]): # 从左到右\n",
    "    cnt = 0\n",
    "    for j in range(0, img.shape[1]): # 从上到下\n",
    "        if img[i][j][0] == 0 or img[i][j][1] == 0 or img[i][j][2] == 0:\n",
    "            cnt += 1\n",
    "    if flag == False and cnt < img.shape[1] * 0.3:\n",
    "        cut1 = i\n",
    "        flag = True\n",
    "    elif flag == True and cnt >= img.shape[1] * 0.3:\n",
    "        cut2 = i\n",
    "        break\n",
    "print(cut1, cut2)\n",
    "if cut2 == 0:\n",
    "    cut2 = img.shape[0]\n",
    "img = img[cut1:cut2, :, :]\n",
    "cv_write(\"pics/elden1/out_weight_6_cut.png\", img)\n"
   ]
  },
  {
   "cell_type": "code",
   "execution_count": 10,
   "metadata": {},
   "outputs": [],
   "source": [
    "import os\n",
    "n = 1\n",
    "for i in range(1, n + 1):\n",
    "    # 创建文件夹，移动文件\n",
    "    name = \"pics\\\\scenery_{}\".format(i)\n",
    "    if os.path.exists('{name}.jpg'):\n",
    "        if not os.path.exists(name):\n",
    "            os.mkdir(name)\n",
    "        os.system(\"move {}.jpg {}\".format(name, name))\n"
   ]
  },
  {
   "cell_type": "code",
   "execution_count": 14,
   "metadata": {},
   "outputs": [
    {
     "name": "stdout",
     "output_type": "stream",
     "text": [
      "reading image: pics/scenery_1/scenery_1.jpg, shape: (1200, 1920, 3)\n",
      "(1200, 822, 3) (1200, 822, 3) (1200, 822, 3)\n",
      "writing image: pics/scenery_1/scenery_1_left.jpg, shape: (1200, 822, 3)\n",
      "writing image: pics/scenery_1/scenery_1_middle.jpg, shape: (1200, 822, 3)\n",
      "writing image: pics/scenery_1/scenery_1_right.jpg, shape: (1200, 822, 3)\n"
     ]
    }
   ],
   "source": [
    "from utils import cv_read, cv_show, cv_write\n",
    "n = 1\n",
    "for i in range(1, n + 1):\n",
    "    name = \"pics/scenery_{}/scenery_{}.jpg\".format(i, i)\n",
    "    img = cv_read(name)\n",
    "    width = img.shape[1] // 7\n",
    "    img1 = img[:, :width*3, :]\n",
    "    img2 = img[:, width*2:width*5, :]\n",
    "    img3 = img[:, width*4:width*7, :]\n",
    "    print(img1.shape, img2.shape, img3.shape)\n",
    "    cv_write(\"pics/scenery_{}/scenery_{}_left.jpg\".format(i, i), img1)\n",
    "    cv_write(\"pics/scenery_{}/scenery_{}_middle.jpg\".format(i, i), img2)\n",
    "    cv_write(\"pics/scenery_{}/scenery_{}_right.jpg\".format(i, i), img3)\n",
    "\n"
   ]
  },
  {
   "cell_type": "code",
   "execution_count": 17,
   "metadata": {},
   "outputs": [
    {
     "name": "stdout",
     "output_type": "stream",
     "text": [
      "finish i: 1, fusionMethod: default, result: 0\n",
      "finish i: 1, fusionMethod: possion, result: 0\n",
      "finish i: 1, fusionMethod: weight, result: 0\n",
      "finish i: 1, fusionMethod: multiband, result: 0\n"
     ]
    }
   ],
   "source": [
    "import os\n",
    "os.system(\"conda activate VR\")\n",
    "\n",
    "ratio = 0.75\n",
    "reprojThresh = 4.0\n",
    "fusionMethod = [\"default\", \"possion\", \"weight\", \"multiband\"]\n",
    "n = 1\n",
    "for i in range(1, n + 1):\n",
    "    prefix = 'pics/scenery_{}/scenery_{}'.format(i, i)\n",
    "    pic1 = prefix + '_left.jpg'\n",
    "    pic2 = prefix + '_middle.jpg'\n",
    "    pic3 = prefix + '_right.jpg'\n",
    "    for (j, f) in enumerate(fusionMethod):\n",
    "        pic_out = prefix + '_out_{}.jpg'.format(f)\n",
    "        command = 'python main.py --number 2' + \\\n",
    "                                ' --pic1 ' + pic1 + \\\n",
    "                                ' --pic2 ' + pic2 + \\\n",
    "                                ' --pic_out ' + pic_out + \\\n",
    "                                ' --ratio ' + str(ratio) + \\\n",
    "                                ' --reprojThresh ' + str(reprojThresh) + \\\n",
    "                                ' --fusionMethod ' + f\n",
    "        result = os.system(command=command)\n",
    "        print(\"finish i: {}, fusionMethod: {}, result: {}\".format(i, f, result))\n"
   ]
  }
 ],
 "metadata": {
  "kernelspec": {
   "display_name": "Python 3.8.15 ('VR')",
   "language": "python",
   "name": "python3"
  },
  "language_info": {
   "codemirror_mode": {
    "name": "ipython",
    "version": 3
   },
   "file_extension": ".py",
   "mimetype": "text/x-python",
   "name": "python",
   "nbconvert_exporter": "python",
   "pygments_lexer": "ipython3",
   "version": "3.8.15"
  },
  "orig_nbformat": 4,
  "vscode": {
   "interpreter": {
    "hash": "87ce492425f52c8dba24d312872db7ce6e5aa3437501335d97e47130cea391c4"
   }
  }
 },
 "nbformat": 4,
 "nbformat_minor": 2
}
