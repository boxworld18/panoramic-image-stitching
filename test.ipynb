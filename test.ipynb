{
 "cells": [
  {
   "cell_type": "code",
   "execution_count": 1,
   "metadata": {},
   "outputs": [
    {
     "name": "stdout",
     "output_type": "stream",
     "text": [
      "finish kind: bag, fusionMethod: default, result: 0\n",
      "finish kind: bag, fusionMethod: possion, result: 0\n",
      "finish kind: bag, fusionMethod: weight, result: 0\n",
      "finish kind: bag, fusionMethod: multiband, result: 0\n",
      "finish kind: road, fusionMethod: default, result: 0\n",
      "finish kind: road, fusionMethod: possion, result: 0\n",
      "finish kind: road, fusionMethod: weight, result: 0\n",
      "finish kind: road, fusionMethod: multiband, result: 0\n",
      "finish kind: snow, fusionMethod: default, result: 0\n",
      "finish kind: snow, fusionMethod: possion, result: 0\n",
      "finish kind: snow, fusionMethod: weight, result: 0\n",
      "finish kind: snow, fusionMethod: multiband, result: 0\n"
     ]
    }
   ],
   "source": [
    "import os\n",
    "\n",
    "os.system(\"conda activate VR\")\n",
    "testFile = \"test.bat\"\n",
    "with open(testFile, \"w\") as f:\n",
    "    f.write(\"echo off\\n\")\n",
    "    f.write(\"conda activate VR\\n\")\n",
    "\n",
    "ratio = 0.75\n",
    "reprojThresh = 4.0\n",
    "fusionMethod = [\"default\", \"possion\", \"weight\", \"multiband\"]\n",
    "kind = [\"bag\",\"road\", \"snow\"]\n",
    "suffix = [\".jpg\", \".png\", \".jpg\"]\n",
    "for (i, k) in enumerate(kind):\n",
    "    pic1 = 'pics/{}/{}_left{}'.format(k, k, suffix[i])\n",
    "    pic2 = 'pics/{}/{}_right{}'.format(k, k, suffix[i])\n",
    "    for (j, f) in enumerate(fusionMethod):\n",
    "        pic_out = 'pics/{}/{}_out_{}{}'.format(k, k, f, suffix[i])\n",
    "        command = 'python main.py --pic1 ' + pic1 + \\\n",
    "                                ' --pic2 ' + pic2 + \\\n",
    "                                ' --pic_out ' + pic_out + \\\n",
    "                                ' --ratio ' + str(ratio) + \\\n",
    "                                ' --reprojThresh ' + str(reprojThresh) + \\\n",
    "                                ' --fusionMethod ' + f + \\\n",
    "                                ' --showMatches ' + \\\n",
    "                                ' --NotShowAny '\n",
    "        result = os.system(command=command)\n",
    "        with open(testFile, \"a\") as cmd:\n",
    "            cmd.write('call ' + command + \"\\n\")\n",
    "                                \n",
    "        print(\"finish kind: {}, fusionMethod: {}, result: {}\".format(k, f, result))\n",
    "\n",
    "\n"
   ]
  }
 ],
 "metadata": {
  "kernelspec": {
   "display_name": "Python 3.8.15 ('VR')",
   "language": "python",
   "name": "python3"
  },
  "language_info": {
   "codemirror_mode": {
    "name": "ipython",
    "version": 3
   },
   "file_extension": ".py",
   "mimetype": "text/x-python",
   "name": "python",
   "nbconvert_exporter": "python",
   "pygments_lexer": "ipython3",
   "version": "3.8.15"
  },
  "orig_nbformat": 4,
  "vscode": {
   "interpreter": {
    "hash": "87ce492425f52c8dba24d312872db7ce6e5aa3437501335d97e47130cea391c4"
   }
  }
 },
 "nbformat": 4,
 "nbformat_minor": 2
}
