{
 "cells": [
  {
   "cell_type": "code",
   "execution_count": 1,
   "metadata": {},
   "outputs": [],
   "source": [
    "from Stitcher import Stitcher\n",
    "import cv2\n",
    "\n",
    "PIC_TAG = 'snow'\n",
    "PIC_SUFFIX = '.jpg'\n",
    "PIC_1 = 'pics/{}_left{}'.format(PIC_TAG, PIC_SUFFIX)\n",
    "PIC_2 = 'pics/{}_right{}'.format(PIC_TAG, PIC_SUFFIX)\n",
    "PIC_SIFT = 'pics/{}_sift{}'.format(PIC_TAG, PIC_SUFFIX)\n",
    "PIC_OUT = 'pics/{}_out{}'.format(PIC_TAG, PIC_SUFFIX)\n",
    "PIC_RESULT = 'pics/{}_result{}'.format(PIC_TAG, PIC_SUFFIX)\n",
    "PIC_CV_RESULT = 'pics/{}_cv_result{}'.format(PIC_TAG, PIC_SUFFIX)\n",
    "\n",
    "# 读取拼接图片\n",
    "imageA = cv2.imread(PIC_1)\n",
    "imageB = cv2.imread(PIC_2)\n",
    "\n",
    "# 把图片拼接成全景图\n",
    "stitcher = Stitcher()\n",
    "(result, vis) = stitcher.stitch([imageA, imageB], showMatches=True)\n",
    "\n",
    "# 显示所有图片\n",
    "# cv2.imshow(\"Image A\", imageA)\n",
    "# cv2.imshow(\"Image B\", imageB)\n",
    "stitcher.cv_show(\"Keypoint Matches\", vis)\n",
    "stitcher.cv_show(\"Result\", result)"
   ]
  }
 ],
 "metadata": {
  "kernelspec": {
   "display_name": "Python 3.8.15 ('VR')",
   "language": "python",
   "name": "python3"
  },
  "language_info": {
   "codemirror_mode": {
    "name": "ipython",
    "version": 3
   },
   "file_extension": ".py",
   "mimetype": "text/x-python",
   "name": "python",
   "nbconvert_exporter": "python",
   "pygments_lexer": "ipython3",
   "version": "3.8.15"
  },
  "orig_nbformat": 4,
  "vscode": {
   "interpreter": {
    "hash": "87ce492425f52c8dba24d312872db7ce6e5aa3437501335d97e47130cea391c4"
   }
  }
 },
 "nbformat": 4,
 "nbformat_minor": 2
}
